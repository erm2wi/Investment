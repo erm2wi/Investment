{
 "cells": [
  {
   "cell_type": "code",
   "execution_count": 2,
   "metadata": {
    "collapsed": false
   },
   "outputs": [
    {
     "name": "stdout",
     "output_type": "stream",
     "text": [
      "Collecting tushare\n",
      "  Using cached tushare-0.4.7.zip\n",
      "Building wheels for collected packages: tushare\n",
      "  Running setup.py bdist_wheel for tushare: started\n",
      "  Running setup.py bdist_wheel for tushare: finished with status 'done'\n",
      "  Stored in directory: C:\\Users\\hhm\\AppData\\Local\\pip\\Cache\\wheels\\64\\58\\c3\\5f6890f234f2d18bae09a1db905d375b8453c955e4c5b97b12\n",
      "Successfully built tushare\n",
      "Installing collected packages: tushare\n",
      "Successfully installed tushare-0.4.7\n"
     ]
    }
   ],
   "source": [
    "!pip install tushare"
   ]
  },
  {
   "cell_type": "code",
   "execution_count": 4,
   "metadata": {
    "collapsed": false
   },
   "outputs": [
    {
     "name": "stdout",
     "output_type": "stream",
     "text": [
      "0.4.7\n"
     ]
    }
   ],
   "source": [
    "import tushare\n",
    "print(tushare.__version__)"
   ]
  }
 ],
 "metadata": {
  "kernelspec": {
   "display_name": "Python 3",
   "language": "python",
   "name": "python3"
  },
  "language_info": {
   "codemirror_mode": {
    "name": "ipython",
    "version": 3
   },
   "file_extension": ".py",
   "mimetype": "text/x-python",
   "name": "python",
   "nbconvert_exporter": "python",
   "pygments_lexer": "ipython3",
   "version": "3.5.1"
  }
 },
 "nbformat": 4,
 "nbformat_minor": 0
}
